{
 "cells": [
  {
   "cell_type": "markdown",
   "id": "49ef1d3f",
   "metadata": {},
   "source": [
    "https://math.semestr.ru/math/diff.php\n",
    "\n",
    "https://www.derivative-calculator.net"
   ]
  },
  {
   "cell_type": "markdown",
   "id": "a6aa39a0",
   "metadata": {},
   "source": [
    "# 1.a\n",
    "\n",
    "$$\n",
    "y = \\frac{x^3}{\\ln{x}}\n",
    "$$\n",
    "\n",
    "по формуле (https://1cov-edu.ru/mat_analiz/proizvodnaya/nayti/):\n",
    "$$\n",
    "\\left(\\frac{u}{v}\\right)' = \\frac{u' v - u v'}{v^2}\n",
    "$$\n",
    "\n",
    "получаем:\n",
    "$$\n",
    "y' = \\left(\\frac{x^3}{\\ln x}\\right)' = \\frac{(x^3)' \\ln{x} - x^3 (\\ln{x})'}{(\\ln{x})^2} \n",
    "$$"
   ]
  },
  {
   "cell_type": "markdown",
   "id": "c42e22ee",
   "metadata": {},
   "source": [
    "По формулам дифференцирования (http://ru.solverbook.com/spravochnik/formuly-po-matematike/formuly-differencirovaniya/) получаем:\n",
    "\n",
    "$$\n",
    "(x^3)' = 3x^2\n",
    "$$\n",
    "\n",
    "$$\n",
    "(\\ln{x})' = \\frac{1}{x}\n",
    "$$"
   ]
  },
  {
   "cell_type": "markdown",
   "id": "a5d5fd7a",
   "metadata": {},
   "source": [
    "Подставляем и сокращаем:\n",
    "\n",
    "$$\n",
    "y' = \\frac{3x^{2} \\ln{x} - \\frac{x^{3}}{x}}{(\\ln{x})^2} = \\frac{3x^2 - x^2}{\\ln{x}} = \\frac{2x^2}{\\ln{x}}\n",
    "$$"
   ]
  },
  {
   "cell_type": "markdown",
   "id": "6ebf4340",
   "metadata": {},
   "source": [
    "# 1.б\n",
    "\n",
    "$$\n",
    "y = tg(x^2 + 4)\n",
    "$$"
   ]
  },
  {
   "cell_type": "markdown",
   "id": "7d302b25",
   "metadata": {},
   "source": [
    "По формуле:\n",
    "$$\n",
    "(tg x)' = \\frac{1}{\\cos^2{x}}\n",
    "$$\n",
    "\n",
    "но у нас сложная функция, поэтому умножаем на производную аргумента тангенса\n",
    "\n",
    "$$\n",
    "y' = \\frac{1}{\\cos(x^2 + 4)^2} (x^2 + 4)' = \\frac{2x}{\\cos(x^2 + 4)^2}\n",
    "$$"
   ]
  },
  {
   "cell_type": "markdown",
   "id": "d5ff327c",
   "metadata": {},
   "source": [
    "# 2\n",
    "\n",
    "https://www.webmath.ru/poleznoe/formules_21_18_sila_toka.php\n",
    "\n",
    "Сила тока это количество электричества деленное на время:\n",
    "$$\n",
    "I = \\frac{d q}{d t}\n",
    "$$\n",
    "\n",
    "Что по сути является производной от электричества по времени:\n",
    "$$\n",
    "I = (4t^2 + 3t + 1)' = 8t + 3\n",
    "$$\n",
    "\n",
    "Сила тока в конце пятой секнуды:\n",
    "$$\n",
    "I = 8 * 5 + 3 = 43\n",
    "$$\n",
    "\n",
    "Ответ: 43 Ампер"
   ]
  },
  {
   "cell_type": "markdown",
   "id": "266e9023",
   "metadata": {},
   "source": [
    "# 3\n",
    "Табличные интегралы:\n",
    "![](https://www.webmath.ru/poleznoe/images/integral/formules_2221.png)"
   ]
  },
  {
   "cell_type": "markdown",
   "id": "a463d97b",
   "metadata": {},
   "source": [
    "# 3.a\n",
    "\n",
    "$$\n",
    "\\int(x^3 - 5\\sin{x})dx = \\int{x^3}dx + \\int{-5\\sin{x}}dx\n",
    "$$\n",
    "\n",
    "$$\n",
    "\\int{x^3}dx = \\frac{x^4}{4} + C\n",
    "$$\n",
    "\n",
    "$$\n",
    "\\int{-5\\sin{x}}dx = 5\\cos{x} + C\n",
    "$$\n",
    "\n",
    "$$\n",
    "\\int{x^3}dx + \\int{-5\\sin{x}}dx = \\frac{x^4}{4} + 5\\cos{x} + C\n",
    "$$\n",
    "\n",
    "Ответ: $\\frac{x^4}{4} + 5\\cos{x} + C$"
   ]
  },
  {
   "cell_type": "markdown",
   "id": "f837aa77",
   "metadata": {},
   "source": [
    "# 3.б\n",
    "\n",
    "$$\n",
    "\\int_0^\\frac{\\pi}{2}{\\cos{x}dx} = \\sin{\\frac{\\pi}{2}} - \\sin{0} = 1\n",
    "$$\n",
    "\n",
    "Ответ: 1"
   ]
  },
  {
   "cell_type": "markdown",
   "id": "0193535f",
   "metadata": {},
   "source": [
    "# 4\n",
    "\n",
    "Скорость это производная от расстояния $v = \\frac{S}{t}$, а расстояние - это интеграл от скорости $S = \\int_a^b{vdt}$\n",
    "\n",
    "$$\n",
    "S = \\int_2^5(4t^2-3t+1)dt\n",
    "$$"
   ]
  },
  {
   "cell_type": "markdown",
   "id": "ea8e7b6e",
   "metadata": {},
   "source": [
    "$$\n",
    "= \\left.(4\\frac{t^3}{3}-3\\frac{t^2}{2}+t)\\right|_2^5 = \\left(4\\frac{5^3}{3} - 3\\frac{5^2}{2} + 5\\right) - \\left(4\\frac{2^3}{3}-3\\frac{2^2}{2}+2\\right)\n",
    "$$"
   ]
  },
  {
   "cell_type": "markdown",
   "id": "2d418a68",
   "metadata": {},
   "source": [
    "$$\n",
    "= 4\\frac{125}{3} - 3\\frac{25}{2} + 5 - 4\\frac{8}{3} + 3\\frac{4}{2} - 2 = \\frac{468}{3} - \\frac{63}{2} + 3 = \\frac{255}{2}\n",
    "$$"
   ]
  },
  {
   "cell_type": "markdown",
   "id": "b68635be",
   "metadata": {},
   "source": [
    "Ответ: $\\frac{255}{2}$"
   ]
  },
  {
   "cell_type": "markdown",
   "id": "5266736b",
   "metadata": {},
   "source": [
    "# 5\n",
    "\n",
    "Тут мы имеем дело с нормальным распределением\n",
    "\n",
    "https://ru.wikipedia.org/wiki/%D0%9D%D0%BE%D1%80%D0%BC%D0%B0%D0%BB%D1%8C%D0%BD%D0%BE%D0%B5_%D1%80%D0%B0%D1%81%D0%BF%D1%80%D0%B5%D0%B4%D0%B5%D0%BB%D0%B5%D0%BD%D0%B8%D0%B5\n",
    "\n",
    "![](https://wikimedia.org/api/rest_v1/media/math/render/svg/00cb9b2c9b866378626bcfa45c86a6de2f2b2e40)"
   ]
  },
  {
   "cell_type": "markdown",
   "id": "6acc94cf",
   "metadata": {},
   "source": [
    "Сопоставляем формулу с исходной функцией и находим значения\n",
    "\n",
    "Cреднеквадратическое отклонение: $\\sigma = 0.1$\n",
    "\n",
    "Математическое ожидание: $\\mu = 1$"
   ]
  },
  {
   "cell_type": "markdown",
   "id": "d4f41652",
   "metadata": {},
   "source": [
    "# 6\n",
    "\n",
    "$$\n",
    "P(175 < X < 180) = \\Phi\\left(\\frac{180 - 170}{5}\\right) - \\Phi\\left(\\frac{175 - 170}{5}\\right) = \\Phi(2) - \\Phi(1)\n",
    "$$"
   ]
  },
  {
   "cell_type": "markdown",
   "id": "24aa83c2",
   "metadata": {},
   "source": [
    "Значение функции $\\Phi$ находим по таблице. (Например отсюда http://informaticslib.ru/books/item/f00/s00/z0000031/st194.shtml  только надо смотреть $\\Phi*$"
   ]
  },
  {
   "cell_type": "markdown",
   "id": "d17c757e",
   "metadata": {},
   "source": [
    "$$\n",
    "= 0.9772 - 0.8413 = 0.1359\n",
    "$$\n",
    "\n",
    "Ответ: вероятность 0.1359"
   ]
  },
  {
   "cell_type": "markdown",
   "id": "fb310917",
   "metadata": {},
   "source": [
    "# 7\n",
    "\n",
    "https://statanaliz.info/statistica/opisanie-dannyx/mediana-v-statistike/"
   ]
  },
  {
   "cell_type": "code",
   "execution_count": 1,
   "id": "4f4af9f9",
   "metadata": {},
   "outputs": [
    {
     "data": {
      "image/png": "[encoded data removed]",
      "text/plain": [
       "<Figure size 648x432 with 1 Axes>"
      ]
     },
     "metadata": {
      "needs_background": "light"
     },
     "output_type": "display_data"
    }
   ],
   "source": [
    "import matplotlib.pyplot as plt\n",
    "\n",
    "x = [110, 114, 114, 118, 118, 122, 122, 126]\n",
    "y = [8, 8, 14, 14, 15, 15, 3, 3]\n",
    "\n",
    "plt.figure(figsize=(9, 6))\n",
    "\n",
    "plt.subplot()\n",
    "plt.fill_between(x, y, alpha=0.3)\n",
    "plt.grid(True)\n",
    "plt.show()"
   ]
  },
  {
   "cell_type": "markdown",
   "id": "82a78757",
   "metadata": {},
   "source": [
    "Считаем средний рост:\n",
    "$$\n",
    "\\bar{x} = \\frac{\\sum xf}{\\sum f} = \\frac{112*8 + 116*14 + 120*15 + 124*3}{8+14+15+3} = \\frac{4692}{40} = 117.3\n",
    "$$"
   ]
  },
  {
   "cell_type": "markdown",
   "id": "7d09e128",
   "metadata": {},
   "source": [
    "Для вычисления моды находим модальный интервал - это интервал с наибольшей частотой - 118-122 и считаем моду по формуле:\n",
    "$$\n",
    "Mo = X_{Mo} + h_{Mo} \\cdot \\frac{f_{Mo} - f_{Mo-1}}{(f_{Mo} - f_{Mo-1}) + (f_{Mo} - f_{Mo+1})}\n",
    "$$\n",
    "$$\n",
    "= 118 + 4 \\cdot \\frac{15 - 14}{(15-14) + (15 - 3)} = 118 + 4 \\cdot \\frac{1}{1+12} = 118 + \\frac{4}{13} = 118.3\n",
    "$$"
   ]
  },
  {
   "cell_type": "markdown",
   "id": "7effc721",
   "metadata": {},
   "source": [
    "https://studfile.net/preview/2917279/page:4/\n",
    "\n",
    "Для нахождения медианы посчитаем накопленные частоты:\n",
    "\n",
    "| Интервалы | $$x_i$$ | $$m_i$$ | Накопленные частоты |\n",
    "|:----------|:--------|:--------|:--------------------|\n",
    "| 110-114   | 112     | 8       | 8                   |\n",
    "| 114-118   | 116     | 14      | 22                  |\n",
    "| 118-122   | 120     | 15      | 37                  |\n",
    "| 122-126   | 124     | 3       | 40                  |\n",
    "\n",
    "Первый интервал, накопленная частота которого превышает половину от суммы частот (20), есть медианный интервал. В нашем случае это 118-122"
   ]
  },
  {
   "cell_type": "markdown",
   "id": "be2ad07e",
   "metadata": {},
   "source": [
    "Находим медиану по формуле:\n",
    "$$\n",
    "Me = X_{Me(min)} + k_i\\frac{0.5\\sum{m}-v_{Me-1}}{m_{Me}}\n",
    "$$\n",
    "$$\n",
    "= 118 + 4 \\cdot \\frac{20 - 8}{14} = 118 + 4 \\cdot \\frac{12}{14} = 121.4\n",
    "$$"
   ]
  },
  {
   "cell_type": "markdown",
   "id": "9ddcfdea",
   "metadata": {},
   "source": [
    "Дисперсия - это средняя арифметическая квадратов отклонений каждого значения признака от средней арифметической\n",
    "$$\n",
    "\\sigma^2 = \\frac{\\sum (x-\\bar{x})^2 \\cdot m}{\\sum m}\n",
    "$$"
   ]
  },
  {
   "cell_type": "markdown",
   "id": "312c3434",
   "metadata": {},
   "source": [
    "| Интервалы | $$x_{i}$$ | $$m_i$$ | $$x-\\bar{x}$$ | $$(x-\\bar{x})^2$$ | $$(x-\\bar{x})^2 m$$|\n",
    "|:----------|:--------|:--------|:------------|:----------------|:-------------------|\n",
    "| 110-114   | 112     | 8       | -5.3        | 28,09           | 224,72             |\n",
    "| 114-118   | 116     | 14      | -1.3        | 1,69            | 23,66              |\n",
    "| 118-122   | 120     | 15      | 2.7         | 7,29            | 109,35             |\n",
    "| 122-126   | 124     | 3       | 6.7         | 44,89           | 134,67             |\n",
    "| $\\sum$    |         | 40      |             |                 | 492,4             |"
   ]
  },
  {
   "cell_type": "markdown",
   "id": "8644bae9",
   "metadata": {},
   "source": [
    "$$\n",
    "\\sigma^2 = \\frac{492.4}{40} = 12.31\n",
    "$$"
   ]
  },
  {
   "cell_type": "markdown",
   "id": "cf3268c4",
   "metadata": {},
   "source": [
    "Среднее квадратическое отклонение размера вклада определяется как корень квадратный из дисперсии:\n",
    "$$\n",
    "\\sigma = \\sqrt{\\sigma^2} = \\sqrt{12.31} = 3.5\n",
    "$$"
   ]
  },
  {
   "cell_type": "markdown",
   "id": "919331d6",
   "metadata": {},
   "source": [
    "# 8\n",
    "\n",
    "Формула доверительного интервала:\n",
    "$$\n",
    "\\bar{X} - t_{\\alpha, n-1} \\cdot \\frac{\\sigma}{\\sqrt{n}} < \\mu < \\bar{X} + t_{\\alpha, n-1} \\cdot \\frac{\\sigma}{\\sqrt{n}}\n",
    "$$"
   ]
  },
  {
   "cell_type": "markdown",
   "id": "5bc602d7",
   "metadata": {},
   "source": [
    "n - объем выборки = 7\n",
    "\n",
    "$\\alpha$ - уровень значимости = 0.05\n",
    "\n",
    "$t_{\\alpha, n-1}$ - критическое значение t- статистики = 2,57 Определяется по таблице: https://www.kontrolnaya-rabota.ru/s/teoriya-veroyatnosti/tablica-studenta/?n=6&p=0.95\n",
    "\n",
    "$\\bar{X}$ - среднее арифметическое = 69,14\n",
    "\n",
    "$$\n",
    "\\sigma = \\sqrt{\\frac{1}{n-1} \\sum_{j=1}^n (x_j-\\bar{X})^2}\n",
    "$$"
   ]
  },
  {
   "cell_type": "markdown",
   "id": "aaa5860e",
   "metadata": {},
   "source": [
    "| $$x_j$$ | $$x_j - \\bar{X}$$ | $$(x_j-\\bar{X})^2$$ |\n",
    "|:------|:---------------|:------------------|\n",
    "| 65    | -4,14          | 17,16\n",
    "| 68    | -1,14          | 1,31\n",
    "| 70    | 0,86           | 0,73\n",
    "| 74    | 4,86           | 23,59\n",
    "| 60    | -9,14          | 83,59\n",
    "| 75    | 5,86           | 34,31\n",
    "| 72    | 2,86           | 8,16\n",
    "| $\\sum$ |               | 168,85"
   ]
  },
  {
   "cell_type": "markdown",
   "id": "29e2149e",
   "metadata": {},
   "source": [
    "$$\n",
    "\\sigma = \\sqrt{\\frac{1}{6} 168.85} = \\sqrt{28,145} = 5.3\n",
    "$$"
   ]
  },
  {
   "cell_type": "markdown",
   "id": "08640a67",
   "metadata": {},
   "source": [
    "Доверительный интервал:\n",
    "$$\n",
    "69.14 - 2.57 \\cdot \\frac{5.3}{\\sqrt{7}} < \\mu < 69.14 + 2.57 \\cdot \\frac{5.3}{\\sqrt{7}}\n",
    "$$\n",
    "\n",
    "$$\n",
    "64 < \\mu < 74.29\n",
    "$$"
   ]
  }
 ],
 "metadata": {
  "kernelspec": {
   "display_name": "Python 3 (ipykernel)",
   "language": "python",
   "name": "python3"
  },
  "language_info": {
   "codemirror_mode": {
    "name": "ipython",
    "version": 3
   },
   "file_extension": ".py",
   "mimetype": "text/x-python",
   "name": "python",
   "nbconvert_exporter": "python",
   "pygments_lexer": "ipython3",
   "version": "3.9.5"
  }
 },
 "nbformat": 4,
 "nbformat_minor": 5
}
